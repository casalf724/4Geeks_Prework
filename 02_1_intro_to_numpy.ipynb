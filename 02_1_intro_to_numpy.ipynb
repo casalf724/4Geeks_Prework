{
  "cells": [
    {
      "cell_type": "markdown",
      "metadata": {
        "id": "view-in-github",
        "colab_type": "text"
      },
      "source": [
        "<a href=\"https://colab.research.google.com/github/casalf724/4Geeks_Prework/blob/main/02_1_intro_to_numpy.ipynb\" target=\"_parent\"><img src=\"https://colab.research.google.com/assets/colab-badge.svg\" alt=\"Open In Colab\"/></a>"
      ]
    },
    {
      "cell_type": "markdown",
      "id": "bdfbcacc",
      "metadata": {
        "id": "bdfbcacc"
      },
      "source": [
        "![alt text](https://github.com/4GeeksAcademy/machine-learning-prework/blob/main/02-numpy/assets/numpy_logo.png?raw=true)\n",
        "\n",
        "## Introduction to Numpy\n",
        "\n",
        "**Numpy** means **Numerical Python**. It is an open source library used to perform mathematical tasks with very high efficiency. In addition, it introduces data structures, multidimensional arrays, which can be operated on at a high level, without getting too much into the detail.\n",
        "\n",
        "Specifically, the keys to this library are:\n",
        "\n",
        "- **Multidimensional arrays**: This library provides an object called `ndarray`, which allows you to store and manipulate large data sets efficiently. Arrays can have any number of dimensions.\n",
        "- **Vectorized operations**: Numpy allows performing mathematical operations on complete arrays without the need for explicit loops in the code, which makes it very fast and efficient.\n",
        "- **Mathematical functions**: Numpy provides a wide range of mathematical functions for working with arrays, including trigonometric functions, statistics, linear algebra, among others.\n",
        "- **Efficiency**: It is much faster than the same functionality implemented directly on native Python. It is also very flexible in terms of accessing and manipulating individual elements or subsets of arrays.\n",
        "\n",
        "Numpy is a fundamental library for Machine Learning and data science in Python. It provides a wide range of tools and functions to work efficiently with numerical data in the form of arrays and matrices."
      ]
    },
    {
      "cell_type": "markdown",
      "id": "dc410026",
      "metadata": {
        "id": "dc410026"
      },
      "source": [
        "### Arrays\n",
        "\n",
        "A Numpy **array** is a data structure that allows you to store a collection of elements, usually numbers, in one or more dimensions.\n",
        "\n",
        "#### One-dimensional Array\n",
        "\n",
        "A one-dimensional (1D) array in Numpy is a data structure that contains a sequence of elements in a single dimension. It is similar to a list in Python, but with the performance and functionality advantages offered by Numpy.\n",
        "\n",
        "![alt text](https://github.com/4GeeksAcademy/machine-learning-prework/blob/main/02-numpy/assets/1D.png?raw=true \"1D\")\n",
        "\n",
        "A 1D array can be created using the `array` function of the library with a list of elements as argument. For example:"
      ]
    },
    {
      "cell_type": "code",
      "execution_count": 1,
      "id": "d8a0686b",
      "metadata": {
        "id": "d8a0686b",
        "outputId": "2cf723cb-97fa-46fe-ac47-8433e639efe5",
        "colab": {
          "base_uri": "https://localhost:8080/"
        }
      },
      "outputs": [
        {
          "output_type": "execute_result",
          "data": {
            "text/plain": [
              "array([1, 2, 3, 4, 5])"
            ]
          },
          "metadata": {},
          "execution_count": 1
        }
      ],
      "source": [
        "import numpy as np\n",
        "\n",
        "array = np.array([1, 2, 3, 4, 5])\n",
        "array"
      ]
    },
    {
      "cell_type": "markdown",
      "id": "e090f7a0",
      "metadata": {
        "id": "e090f7a0"
      },
      "source": [
        "This will create a 1D array with elements 1, 2, 3, 3, 4 and 5. The array elements must be of the same data type. If the elements are of different types, Numpy will try to convert them to the same type if possible.\n",
        "\n",
        "In a 1D array, we can access the elements using **indices**, modify them and perform mathematical operations on the whole array efficiently. Below are some operations that can be performed using the above array:"
      ]
    },
    {
      "cell_type": "code",
      "execution_count": 2,
      "id": "a56cb1b0",
      "metadata": {
        "id": "a56cb1b0",
        "outputId": "b7dee654-bb54-483d-e383-f97d6ed1b92d",
        "colab": {
          "base_uri": "https://localhost:8080/"
        }
      },
      "outputs": [
        {
          "output_type": "stream",
          "name": "stdout",
          "text": [
            "3\n",
            "[1 7 3 4 5]\n",
            "[11 17 13 14 15]\n",
            "70\n"
          ]
        }
      ],
      "source": [
        "# Access the third element\n",
        "print(array[2])\n",
        "\n",
        "# Change the value of the second element\n",
        "array[1] = 7\n",
        "print(array)\n",
        "\n",
        "# Add 10 to all elements\n",
        "array += 10\n",
        "print(array)\n",
        "\n",
        "# Calculate the sum of the elements\n",
        "sum_all = np.sum(array)\n",
        "print(sum_all)"
      ]
    },
    {
      "cell_type": "markdown",
      "id": "322771b1",
      "metadata": {
        "id": "322771b1"
      },
      "source": [
        "#### N-dimensional Array\n",
        "\n",
        "A multidimensional or n-dimensional array in Numpy is a data structure that organizes elements in multiple dimensions (axes). These arrays allow you to represent more complex data structures, such as matrices (2D array, 2 axes), tensors (3D array, 3 axes) and higher dimensional structures.\n",
        "\n",
        "![alt text](https://github.com/4GeeksAcademy/machine-learning-prework/blob/main/02-numpy/assets/3D.png?raw=true \"3D\")\n",
        "\n",
        "An N-dimensional array can also be created using the `array` function of the library. For example, if we want to create a 2D array:"
      ]
    },
    {
      "cell_type": "code",
      "execution_count": 3,
      "id": "2033ba3c",
      "metadata": {
        "id": "2033ba3c",
        "outputId": "8544ff96-9183-42e9-abb1-917501d32eb4",
        "colab": {
          "base_uri": "https://localhost:8080/"
        }
      },
      "outputs": [
        {
          "output_type": "execute_result",
          "data": {
            "text/plain": [
              "array([[1, 2, 3],\n",
              "       [4, 5, 6],\n",
              "       [7, 8, 9]])"
            ]
          },
          "metadata": {},
          "execution_count": 3
        }
      ],
      "source": [
        "array_2d = np.array([[1, 2, 3], [4, 5, 6], [7, 8, 9]])\n",
        "array_2d"
      ]
    },
    {
      "cell_type": "markdown",
      "id": "d3dac6c2",
      "metadata": {
        "id": "d3dac6c2"
      },
      "source": [
        "If we now wanted to create a 3D array, we would have to think of it as a list of arrays:"
      ]
    },
    {
      "cell_type": "code",
      "execution_count": 4,
      "id": "bc914841",
      "metadata": {
        "id": "bc914841",
        "outputId": "85c03ee5-661d-43ef-cb47-38a629a7d185",
        "colab": {
          "base_uri": "https://localhost:8080/"
        }
      },
      "outputs": [
        {
          "output_type": "execute_result",
          "data": {
            "text/plain": [
              "array([[[1, 2],\n",
              "        [3, 4]],\n",
              "\n",
              "       [[5, 6],\n",
              "        [7, 8]]])"
            ]
          },
          "metadata": {},
          "execution_count": 4
        }
      ],
      "source": [
        "array_3d = np.array([[[1, 2], [3, 4]], [[5, 6], [7, 8]]])\n",
        "array_3d"
      ]
    },
    {
      "cell_type": "markdown",
      "id": "da7bcb64",
      "metadata": {
        "id": "da7bcb64"
      },
      "source": [
        "As with 1D arrays, the elements in a multidimensional array are accessible via indexes, operations can be performed on them, and so on.\n",
        "\n",
        "As we add more dimensions, the basic principle remains the same: each additional dimension can be considered as an additional level of nesting. However, on a practical level, working with arrays of more than 3 or 4 dimensions can become more complex and less intuitive.\n",
        "\n",
        "The n-dimensional arrays in Numpy allow great flexibility and power to represent and manipulate data in more complex ways, especially useful in fields such as data science, image processing and deep learning."
      ]
    },
    {
      "cell_type": "markdown",
      "id": "d699ac98",
      "metadata": {
        "id": "d699ac98"
      },
      "source": [
        "### Functions\n",
        "\n",
        "Numpy provides a large number of predefined functions that can be applied directly to the data structures seen above or to Python's own data structures (lists, arrays, etc.). Some of the most commonly used in data analysis are:"
      ]
    },
    {
      "cell_type": "code",
      "execution_count": 5,
      "id": "e7680306",
      "metadata": {
        "id": "e7680306",
        "outputId": "667a831f-3489-484c-fc46-ce3602afee4f",
        "colab": {
          "base_uri": "https://localhost:8080/"
        }
      },
      "outputs": [
        {
          "output_type": "stream",
          "name": "stdout",
          "text": [
            "Sum: [ 6  7  8  9 10]\n",
            "Product: [ 3  6  9 12 15]\n",
            "Natural logarithm: [0.         0.69314718 1.09861229 1.38629436 1.60943791]\n",
            "Exponential: [  2.71828183   7.3890561   20.08553692  54.59815003 148.4131591 ]\n",
            "Mean: 3.0\n",
            "Median: 3.0\n",
            "Standard Deviation: 1.4142135623730951\n",
            "Variance: 2.0\n",
            "Maximum value: 5\n",
            "Maximum value index: 4\n",
            "Minimum value: 1\n",
            "Minimum value index: 0\n",
            "Sum of all elements: 15\n",
            "Rounding: [1. 2. 4. 5.]\n",
            "Minor integer (floor): [1. 2. 3. 4.]\n",
            "Major integer (ceil): [2. 3. 4. 5.]\n"
          ]
        }
      ],
      "source": [
        "import numpy as np\n",
        "\n",
        "# Create an array for the example\n",
        "arr = np.array([1, 2, 3, 4, 5])\n",
        "\n",
        "# Arithmetic Operations\n",
        "print(\"Sum:\", np.add(arr, 5))\n",
        "print(\"Product:\", np.multiply(arr, 3))\n",
        "\n",
        "# Logarithmic and Exponential\n",
        "print(\"Natural logarithm:\", np.log(arr))\n",
        "print(\"Exponential:\", np.exp(arr))\n",
        "\n",
        "# Statistical Functions\n",
        "print(\"Mean:\", np.mean(arr))\n",
        "print(\"Median:\", np.median(arr))\n",
        "print(\"Standard Deviation:\", np.std(arr))\n",
        "print(\"Variance:\", np.var(arr))\n",
        "print(\"Maximum value:\", np.max(arr))\n",
        "print(\"Maximum value index:\", np.argmax(arr))\n",
        "print(\"Minimum value:\", np.min(arr))\n",
        "print(\"Minimum value index:\", np.argmin(arr))\n",
        "print(\"Sum of all elements:\", np.sum(arr))\n",
        "\n",
        "# Rounding Functions\n",
        "arr_decimal = np.array([1.23, 2.47, 3.56, 4.89])\n",
        "print(\"Rounding:\", np.around(arr_decimal))\n",
        "print(\"Minor integer (floor):\", np.floor(arr_decimal))\n",
        "print(\"Major integer (ceil):\", np.ceil(arr_decimal))"
      ]
    },
    {
      "cell_type": "markdown",
      "id": "51b5cda3",
      "metadata": {
        "id": "51b5cda3"
      },
      "source": [
        "## Exercises\n",
        "\n",
        "> Solution: https://github.com/4GeeksAcademy/machine-learning-prework/blob/main/02-numpy/02.1-Intro-to-Numpy_solutions.ipynb\n",
        "\n",
        "### Array creation"
      ]
    },
    {
      "cell_type": "markdown",
      "id": "e3c20b3d",
      "metadata": {
        "id": "e3c20b3d"
      },
      "source": [
        "#### Exercise 01: Create a **null vector** that contains 10 elements (★☆☆)\n",
        "\n",
        "A null vector is a one-dimensional array composed of zeros (`0`).\n",
        "\n",
        "> NOTE: Check the function `np.zeros` (https://numpy.org/doc/stable/reference/generated/numpy.zeros.html)"
      ]
    },
    {
      "cell_type": "code",
      "execution_count": 6,
      "id": "8a758bcf",
      "metadata": {
        "id": "8a758bcf",
        "outputId": "cee065a4-69b0-43a8-9668-fd7a14fd34cd",
        "colab": {
          "base_uri": "https://localhost:8080/"
        }
      },
      "outputs": [
        {
          "output_type": "stream",
          "name": "stdout",
          "text": [
            "[0. 0. 0. 0. 0. 0. 0. 0. 0. 0.]\n"
          ]
        }
      ],
      "source": [
        "print(np.zeros(10))\n"
      ]
    },
    {
      "cell_type": "markdown",
      "id": "6cbe7954",
      "metadata": {
        "id": "6cbe7954"
      },
      "source": [
        "#### Exercise 02: Create a vector of ones with 10 elements (★☆☆)\n",
        "\n",
        "> NOTE: Check the function `np.ones` (https://numpy.org/doc/stable/reference/generated/numpy.ones.html)"
      ]
    },
    {
      "cell_type": "code",
      "execution_count": 7,
      "id": "86477874",
      "metadata": {
        "id": "86477874",
        "outputId": "67c2563b-6d69-4848-e3e0-2d60399c0b39",
        "colab": {
          "base_uri": "https://localhost:8080/"
        }
      },
      "outputs": [
        {
          "output_type": "stream",
          "name": "stdout",
          "text": [
            "[1. 1. 1. 1. 1. 1. 1. 1. 1. 1.]\n"
          ]
        }
      ],
      "source": [
        "print(np.ones(10))"
      ]
    },
    {
      "cell_type": "markdown",
      "id": "0a708990",
      "metadata": {
        "id": "0a708990"
      },
      "source": [
        "#### Exercise 03: Investigate the `linspace` function of Numpy and create an array with 10 elements (★☆☆)\n",
        "\n",
        "> NOTE: Check the function `np.linspace` (https://numpy.org/doc/stable/reference/generated/numpy.linspace.html)"
      ]
    },
    {
      "cell_type": "code",
      "execution_count": 8,
      "id": "477e01f4",
      "metadata": {
        "id": "477e01f4",
        "outputId": "fd8c5fd1-3e51-40ca-9bd7-011a5f089d9d",
        "colab": {
          "base_uri": "https://localhost:8080/"
        }
      },
      "outputs": [
        {
          "output_type": "stream",
          "name": "stdout",
          "text": [
            "[ 2.  4.  6.  8. 10. 12. 14. 16. 18. 20.]\n"
          ]
        }
      ],
      "source": [
        "print(np.linspace(2,20, num=10))"
      ]
    },
    {
      "cell_type": "markdown",
      "id": "9794fe71",
      "metadata": {
        "id": "9794fe71"
      },
      "source": [
        "#### Exercise 04: Find several ways to generate an array with random numbers and create a 1D array and two 2D arrays (★★☆)\n",
        "\n",
        "> NOTE: Check the functions `np.random.rand` (https://numpy.org/doc/stable/reference/random/generated/numpy.random.rand.html), `np.random.randint` (https://numpy.org/doc/stable/reference/random/generated/numpy.random.randint.html) and `np.random.randn` (https://numpy.org/doc/stable/reference/random/generated/numpy.random.randn.html)"
      ]
    },
    {
      "cell_type": "code",
      "execution_count": 9,
      "id": "3d9a48a7",
      "metadata": {
        "id": "3d9a48a7",
        "outputId": "7a93b2e7-0a61-4b1a-fc6f-03db587a03ca",
        "colab": {
          "base_uri": "https://localhost:8080/"
        }
      },
      "outputs": [
        {
          "output_type": "stream",
          "name": "stdout",
          "text": [
            "np.random.rand - 2D Array\n",
            "[[0.18088272 0.64604504]\n",
            " [0.48361978 0.65339198]]\n",
            "_________________\n",
            "np.random.randint - 1d Array\n",
            "[ 5 10 15  2 11 17 18  3  4  2]\n",
            "_________________\n",
            "np.random.randn - 2d Array\n",
            "[[2.5754323  3.86373171]\n",
            " [2.7035678  7.37626412]]\n",
            "_________________\n"
          ]
        }
      ],
      "source": [
        "print(\"np.random.rand - 2D Array\")\n",
        "print(np.random.rand(2,2))\n",
        "print(\"_________________\")\n",
        "print(\"np.random.randint - 1d Array\")\n",
        "print(np.random.randint(20,size=10))\n",
        "print(\"_________________\")\n",
        "print(\"np.random.randn - 2d Array\")\n",
        "print(3+2.5* np.random.randn(2,2))\n",
        "print(\"_________________\")"
      ]
    },
    {
      "cell_type": "markdown",
      "id": "78a37e5c",
      "metadata": {
        "id": "78a37e5c"
      },
      "source": [
        "#### Exercise 05: Create a 5x5 identity matrix (2D array) (★☆☆)\n",
        "\n",
        "\n",
        "> NOTE: Check the function `np.eye`(https://numpy.org/devdocs/reference/generated/numpy.eye.html)"
      ]
    },
    {
      "cell_type": "code",
      "execution_count": 10,
      "id": "a6751106",
      "metadata": {
        "id": "a6751106",
        "outputId": "3c514e7c-b44a-4d15-809b-94a095ab021c",
        "colab": {
          "base_uri": "https://localhost:8080/"
        }
      },
      "outputs": [
        {
          "output_type": "stream",
          "name": "stdout",
          "text": [
            "[[1. 0. 0. 0. 0.]\n",
            " [0. 1. 0. 0. 0.]\n",
            " [0. 0. 1. 0. 0.]\n",
            " [0. 0. 0. 1. 0.]\n",
            " [0. 0. 0. 0. 1.]]\n"
          ]
        }
      ],
      "source": [
        "print(np.eye(5,5,0))"
      ]
    },
    {
      "cell_type": "markdown",
      "id": "08bb63e6",
      "metadata": {
        "id": "08bb63e6"
      },
      "source": [
        "#### Exercise 06: Create a 3x2 random number matrix and calculate the minimum and maximum value (★☆☆)\n",
        "\n",
        "> NOTE: Check the functions `np.min` (https://numpy.org/devdocs/reference/generated/numpy.where.html) and `np.max` (https://numpy.org/devdocs/reference/generated/numpy.max.html)"
      ]
    },
    {
      "cell_type": "code",
      "execution_count": 11,
      "id": "3214cca1",
      "metadata": {
        "id": "3214cca1",
        "outputId": "c0926b9b-4112-4dcf-8f34-326d6581c5f6",
        "colab": {
          "base_uri": "https://localhost:8080/"
        }
      },
      "outputs": [
        {
          "output_type": "stream",
          "name": "stdout",
          "text": [
            "[[0.58563162 0.44014793]\n",
            " [0.19126163 0.4953275 ]\n",
            " [0.59536998 0.89444989]]\n",
            "Maximum value: 0.8944498865788854\n",
            "Miniumum value: 0.19126163185525058\n"
          ]
        }
      ],
      "source": [
        "# Create Random array 3x2\n",
        "mat = np.random.rand(3,2)\n",
        "print(mat)\n",
        "print(\"Maximum value:\", np.max(mat))\n",
        "print(\"Miniumum value:\", np.min(mat))"
      ]
    },
    {
      "cell_type": "markdown",
      "id": "57c6c275",
      "metadata": {
        "id": "57c6c275"
      },
      "source": [
        "#### Exercise 07: Create a vector of 30 elements that are random numbers and calculate the mean. (★☆☆)\n",
        "\n",
        "> NOTE: Check the function `np.mean` (https://numpy.org/doc/stable/reference/generated/numpy.mean.html)"
      ]
    },
    {
      "cell_type": "code",
      "execution_count": 12,
      "id": "cc960ba5",
      "metadata": {
        "id": "cc960ba5",
        "outputId": "5a8fa28c-db4f-42fa-b6e7-2994af075907",
        "colab": {
          "base_uri": "https://localhost:8080/"
        }
      },
      "outputs": [
        {
          "output_type": "stream",
          "name": "stdout",
          "text": [
            "[0.27387793 0.31475281 0.36839642 0.0357053  0.98115663 0.95045387\n",
            " 0.27360657 0.20096835 0.73815042 0.07555231]\n",
            "Mean: 0.4212620616851466\n"
          ]
        }
      ],
      "source": [
        "#Create Vector\n",
        "vec = np.random.rand(10)\n",
        "print(vec)\n",
        "print(\"Mean:\", np.mean(vec))"
      ]
    },
    {
      "cell_type": "markdown",
      "id": "2c801667",
      "metadata": {
        "id": "2c801667"
      },
      "source": [
        "#### Exercise 08: Converts the list `[1, 2, 3]` and the tuple `(1, 2, 3)` to arrays (★☆☆)"
      ]
    },
    {
      "cell_type": "code",
      "execution_count": 13,
      "id": "3f36c71c",
      "metadata": {
        "id": "3f36c71c",
        "outputId": "8b03e25a-4622-46b1-ea9e-1ffed64e542b",
        "colab": {
          "base_uri": "https://localhost:8080/"
        }
      },
      "outputs": [
        {
          "output_type": "stream",
          "name": "stdout",
          "text": [
            "[2 4 6]\n"
          ]
        }
      ],
      "source": [
        "lis = [1,2,3]\n",
        "tup = (1,2,3)\n",
        "\n",
        "tuparr = np.array(tup)\n",
        "\n",
        "arr = lis + tuparr\n",
        "print(arr)"
      ]
    },
    {
      "cell_type": "markdown",
      "id": "962bb9fc",
      "metadata": {
        "id": "962bb9fc"
      },
      "source": [
        "### Operations between arrays"
      ]
    },
    {
      "cell_type": "markdown",
      "id": "48d48f01",
      "metadata": {
        "id": "48d48f01"
      },
      "source": [
        "#### Exercise 09: Invert the vector of the previous exercise (★☆☆)\n",
        "\n",
        "> NOTE: Check the function `np.flip` (https://numpy.org/doc/stable/reference/generated/numpy.flip.html)"
      ]
    },
    {
      "cell_type": "code",
      "execution_count": 14,
      "id": "d3e13052",
      "metadata": {
        "id": "d3e13052",
        "outputId": "f8c73bef-2ac5-4e61-879a-31d8cc735abf",
        "colab": {
          "base_uri": "https://localhost:8080/"
        }
      },
      "outputs": [
        {
          "output_type": "stream",
          "name": "stdout",
          "text": [
            "[6 4 2]\n"
          ]
        }
      ],
      "source": [
        "print(np.flip(arr))"
      ]
    },
    {
      "cell_type": "markdown",
      "id": "233addce",
      "metadata": {
        "id": "233addce"
      },
      "source": [
        "#### Exercise 10: Change the size of a random array of dimensions 5x12 into 12x5 (★☆☆)\n",
        "\n",
        "> NOTE: Check the function `np.reshape` (https://numpy.org/doc/stable/reference/generated/numpy.reshape.html)"
      ]
    },
    {
      "cell_type": "code",
      "execution_count": 15,
      "id": "bfaed09f",
      "metadata": {
        "id": "bfaed09f",
        "colab": {
          "base_uri": "https://localhost:8080/"
        },
        "outputId": "10c1bca1-094c-4a8a-e5a2-3e11c2f9b49c"
      },
      "outputs": [
        {
          "output_type": "stream",
          "name": "stdout",
          "text": [
            "------------------------ 5 x 12 ARRAY-------------------------- \n",
            "[[0.34310942 0.44042358 0.30526274 0.76953532 0.59500424 0.31365805\n",
            "  0.14923523 0.08316463 0.03261766 0.29287795 0.53707038 0.19226642]\n",
            " [0.47797415 0.69479106 0.96170718 0.31914859 0.77754139 0.22708639\n",
            "  0.30186404 0.79982711 0.39107159 0.14164139 0.56503245 0.73077649]\n",
            " [0.97736943 0.45390164 0.83842743 0.19163743 0.67266547 0.2097004\n",
            "  0.01212213 0.72882307 0.54681418 0.88024142 0.17597861 0.38728648]\n",
            " [0.88472201 0.09593136 0.68307874 0.64652126 0.63300069 0.80296425\n",
            "  0.0384727  0.38012545 0.04260541 0.03380046 0.14724099 0.19901384]\n",
            " [0.44983788 0.96964848 0.74509582 0.52214783 0.88622798 0.44281312\n",
            "  0.40610333 0.19940148 0.6389778  0.96255279 0.01716517 0.21407152]]\n",
            "------------------------ 12 x 5 ARRAY-------------------------- \n",
            "[[0.34310942 0.44042358 0.30526274 0.76953532 0.59500424]\n",
            " [0.31365805 0.14923523 0.08316463 0.03261766 0.29287795]\n",
            " [0.53707038 0.19226642 0.47797415 0.69479106 0.96170718]\n",
            " [0.31914859 0.77754139 0.22708639 0.30186404 0.79982711]\n",
            " [0.39107159 0.14164139 0.56503245 0.73077649 0.97736943]\n",
            " [0.45390164 0.83842743 0.19163743 0.67266547 0.2097004 ]\n",
            " [0.01212213 0.72882307 0.54681418 0.88024142 0.17597861]\n",
            " [0.38728648 0.88472201 0.09593136 0.68307874 0.64652126]\n",
            " [0.63300069 0.80296425 0.0384727  0.38012545 0.04260541]\n",
            " [0.03380046 0.14724099 0.19901384 0.44983788 0.96964848]\n",
            " [0.74509582 0.52214783 0.88622798 0.44281312 0.40610333]\n",
            " [0.19940148 0.6389778  0.96255279 0.01716517 0.21407152]]\n"
          ]
        }
      ],
      "source": [
        "a512 = np.random.rand(5,12)\n",
        "print(\"------------------------ 5 x 12 ARRAY-------------------------- \")\n",
        "print(a512)\n",
        "print(\"------------------------ 12 x 5 ARRAY-------------------------- \")\n",
        "print(a512.reshape(12,5))\n",
        "\n"
      ]
    },
    {
      "cell_type": "markdown",
      "id": "645e5381",
      "metadata": {
        "id": "645e5381"
      },
      "source": [
        "#### Exercise 11: Convert the list `[1, 2, 0, 0, 0, 4, 0]` into an array and get the index of the non-zero elements (★★☆)\n",
        "\n",
        "> NOTE: Check the function `np.where` (https://numpy.org/devdocs/reference/generated/numpy.where.html)"
      ]
    },
    {
      "cell_type": "code",
      "execution_count": 16,
      "id": "b2652fee",
      "metadata": {
        "id": "b2652fee",
        "colab": {
          "base_uri": "https://localhost:8080/"
        },
        "outputId": "0fc19fc8-c36b-43c6-a8f8-ecc47e8ae5b8"
      },
      "outputs": [
        {
          "output_type": "stream",
          "name": "stdout",
          "text": [
            "List: [1, 2, 0, 0, 0, 4, 0]\n",
            "(array([0, 1, 5]),)\n"
          ]
        }
      ],
      "source": [
        "lst = [1, 2, 0, 0, 0, 4, 0]\n",
        "print(\"List:\", lst)\n",
        "\n",
        "array_lst = np.array(lst)\n",
        "\n",
        "# Get the indices of non-zero elements\n",
        "indices = np.where(array_lst != 0)\n",
        "\n",
        "print(indices)"
      ]
    },
    {
      "cell_type": "markdown",
      "id": "e7948dbb",
      "metadata": {
        "id": "e7948dbb"
      },
      "source": [
        "#### Exercise 12: Convert the list `[0, 5, -1, 3, 15]` into an array, multiply its values by `-2` and obtain the even elements (★★☆)"
      ]
    },
    {
      "cell_type": "code",
      "execution_count": 17,
      "metadata": {
        "id": "Om274BGRwmF9",
        "colab": {
          "base_uri": "https://localhost:8080/"
        },
        "outputId": "f212c305-6be9-4130-c4c6-d2a696de51bd"
      },
      "outputs": [
        {
          "output_type": "stream",
          "name": "stdout",
          "text": [
            "[  0 -10   2  -6 -30]\n",
            "(array([1, 2, 3, 4]),)\n"
          ]
        }
      ],
      "source": [
        "from IPython.core.debugger import make_arrow\n",
        "clist = [0, 5, -1, 3, 15]\n",
        "\n",
        "array_clist = np.array(clist)\n",
        "\n",
        "marray_clist = array_clist * -2\n",
        "print(marray_clist)\n",
        "\n",
        "evens = np.where((marray_clist %2 ==0) & (marray_clist !=0))\n",
        "print(evens)"
      ],
      "id": "Om274BGRwmF9"
    },
    {
      "cell_type": "markdown",
      "id": "a90d6f3e",
      "metadata": {
        "id": "a90d6f3e"
      },
      "source": [
        "#### Exercise 13: Create a random vector of 10 elements and order it from smallest to largest (★★☆)\n",
        "\n",
        "> NOTE: Check the function `np.sort` (https://numpy.org/doc/stable/reference/generated/numpy.sort.html)"
      ]
    },
    {
      "cell_type": "code",
      "execution_count": 18,
      "id": "bc373a83",
      "metadata": {
        "id": "bc373a83",
        "colab": {
          "base_uri": "https://localhost:8080/"
        },
        "outputId": "708ecad9-04c9-45cf-f3f4-a1cd689ac4b3"
      },
      "outputs": [
        {
          "output_type": "stream",
          "name": "stdout",
          "text": [
            "Random Vector: [ 0  2  7 10  9 11  9 12  4  9]\n",
            "Sorted Vector: [ 0  2  4  7  9  9  9 10 11 12]\n"
          ]
        }
      ],
      "source": [
        "rvec = np.random.randint(20,size=10)\n",
        "print(\"Random Vector:\",rvec)\n",
        "print(\"Sorted Vector:\", np.sort(rvec))"
      ]
    },
    {
      "cell_type": "markdown",
      "id": "5e9b6115",
      "metadata": {
        "id": "5e9b6115"
      },
      "source": [
        "#### Exercise 14: Generate two random vectors of 8 elements and apply the operations of addition, subtraction and multiplication between them (★★☆)\n",
        "\n",
        "> NOTE: Check the math module functions: https://numpy.org/doc/stable/reference/routines.math.html"
      ]
    },
    {
      "cell_type": "code",
      "execution_count": 19,
      "id": "cc77e421",
      "metadata": {
        "id": "cc77e421",
        "colab": {
          "base_uri": "https://localhost:8080/"
        },
        "outputId": "14f04422-1cfd-4673-b61c-4fcc3d87adc6"
      },
      "outputs": [
        {
          "output_type": "stream",
          "name": "stdout",
          "text": [
            "[ 9 13  8 17 11  1  5  4] [11  4  0 14  6  9  1 12]\n",
            "Vector Addition: [20 17  8 31 17 10  6 16]\n",
            "Vector Subtraction: [-2  9  8  3  5 -8  4 -8]\n",
            "Vector Multiplication: [ 99  52   0 238  66   9   5  48]\n"
          ]
        }
      ],
      "source": [
        "Vec1 = np.random.randint(20,size=8)\n",
        "Vec2 = np.random.randint(20,size=8)\n",
        "\n",
        "print(Vec1, Vec2)\n",
        "\n",
        "add = Vec1 + Vec2\n",
        "sub = Vec1 - Vec2\n",
        "multiply = Vec1 * Vec2\n",
        "\n",
        "print(\"Vector Addition:\", add)\n",
        "print(\"Vector Subtraction:\", sub)\n",
        "print(\"Vector Multiplication:\", multiply)\n"
      ]
    },
    {
      "cell_type": "markdown",
      "id": "c8e8daa0",
      "metadata": {
        "id": "c8e8daa0"
      },
      "source": [
        "#### Exercise 15: Convert the list `[1, 2, 3, 4, 5, 6, 7, 8, 9, 10, 11, 12]` into an array and transform it into a matrix with rows of 3 columns (★★★)"
      ]
    },
    {
      "cell_type": "code",
      "execution_count": 20,
      "metadata": {
        "id": "aE0tC2bCwmGC",
        "colab": {
          "base_uri": "https://localhost:8080/"
        },
        "outputId": "1d3b227f-94d4-4c8f-b2e2-3d69a08cbcb1"
      },
      "outputs": [
        {
          "output_type": "stream",
          "name": "stdout",
          "text": [
            "Array: [ 1  2  3  4  5  6  7  8  9 10 11 12]\n",
            "Matrix w/ 3 rows: [[ 1  2  3]\n",
            " [ 4  5  6]\n",
            " [ 7  8  9]\n",
            " [10 11 12]]\n"
          ]
        }
      ],
      "source": [
        "lst15 = [1, 2, 3, 4, 5, 6, 7, 8, 9, 10, 11, 12]\n",
        "array15 = np.array(lst15)\n",
        "print(\"Array:\", array15)\n",
        "\n",
        "matrix_15 = array15.reshape((-1, 3)) # Why the -1\n",
        "print(\"Matrix w/ 3 rows:\", matrix_15)"
      ],
      "id": "aE0tC2bCwmGC"
    }
  ],
  "metadata": {
    "kernelspec": {
      "display_name": "Python 3",
      "language": "python",
      "name": "python3"
    },
    "language_info": {
      "codemirror_mode": {
        "name": "ipython",
        "version": 3
      },
      "file_extension": ".py",
      "mimetype": "text/x-python",
      "name": "python",
      "nbconvert_exporter": "python",
      "pygments_lexer": "ipython3",
      "version": "3.11.4"
    },
    "colab": {
      "provenance": [],
      "include_colab_link": true
    }
  },
  "nbformat": 4,
  "nbformat_minor": 5
}